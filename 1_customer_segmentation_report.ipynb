{
 "cells": [
  {
   "cell_type": "code",
   "execution_count": 1,
   "metadata": {},
   "outputs": [],
   "source": [
    "# import libraries here; add more as necessary\n",
    "from collections import namedtuple\n",
    "import pickle\n",
    "import math\n",
    "import itertools\n",
    "import importlib\n",
    "import os\n",
    "from time import time\n",
    "\n",
    "import numpy as np\n",
    "import pandas as pd\n",
    "import matplotlib.pyplot as plt\n",
    "import seaborn as sns\n",
    "\n",
    "from xgboost import XGBClassifier\n",
    "\n",
    "import azdias_helpers.clean_df as clean_df\n",
    "import azdias_helpers.verbosity as v\n",
    "import azdias_helpers.pickler as pickler\n",
    "\n",
    "\n",
    "# magic word for producing visualizations in notebook\n",
    "%matplotlib inline\n",
    "\n",
    "pd.set_option('display.max_rows', None)"
   ]
  },
  {
   "cell_type": "code",
   "execution_count": 2,
   "metadata": {},
   "outputs": [
    {
     "name": "stderr",
     "output_type": "stream",
     "text": [
      "C:\\Users\\Olive\\Anaconda3\\lib\\site-packages\\IPython\\core\\interactiveshell.py:3063: DtypeWarning: Columns (18,19) have mixed types.Specify dtype option on import or set low_memory=False.\n",
      "  interactivity=interactivity, compiler=compiler, result=result)\n"
     ]
    }
   ],
   "source": [
    "azdias = pd.read_csv('./Udacity_AZDIAS_052018.csv', sep=';')\n",
    "customers = pd.read_csv('./Udacity_CUSTOMERS_052018.csv', sep=';')"
   ]
  },
  {
   "cell_type": "code",
   "execution_count": 12,
   "metadata": {},
   "outputs": [
    {
     "data": {
      "text/plain": [
       "<module 'azdias_helpers.clean_df' from 'C:\\\\Users\\\\Olive\\\\Documents\\\\PortfolioProjects\\\\arvato-udacity-customersegmentation\\\\azdias_helpers\\\\clean_df.py'>"
      ]
     },
     "execution_count": 12,
     "metadata": {},
     "output_type": "execute_result"
    }
   ],
   "source": [
    "importlib.reload(clean_df)"
   ]
  },
  {
   "cell_type": "code",
   "execution_count": 13,
   "metadata": {},
   "outputs": [
    {
     "name": "stdout",
     "output_type": "stream",
     "text": [
      "Running etl_pipeline...\n",
      "Running unknown_to_nan...\n",
      "Finished unknown_to_nan...\n",
      "Running onehot_encode_df...\n",
      "Finished running onehot_encode_df...\n",
      "Running remove_string_values...\n",
      "Finished running remove_string_values.\n",
      "Running binarize_nan...\n",
      "Finishing binarize_nan.\n",
      "Running standardise_binary_features...\n",
      "Finished running standardise_binary_features.\n",
      "Running bin_features_with_tails...\n",
      "Finished running bin_features_with_tails\n",
      "Running drop_sparse_samples.\n",
      "0% of rows dropped: 0 out of 891,221\n",
      "Finished running drop_sparse_samples.\n",
      "Finished running etl_pipeline.\n",
      "\n",
      "df shape before:(891221, 366), after:(891221, 99)\n"
     ]
    }
   ],
   "source": [
    "azdias_clean = clean_df.etl_pipeline(azdias,verbosity=v.MED)"
   ]
  },
  {
   "cell_type": "code",
   "execution_count": null,
   "metadata": {},
   "outputs": [
    {
     "name": "stdout",
     "output_type": "stream",
     "text": [
      "Running etl_pipeline...\n",
      "Running unknown_to_nan...\n",
      "Finished unknown_to_nan...\n",
      "Running onehot_encode_df...\n",
      "Finished running onehot_encode_df...\n",
      "Running remove_string_values...\n",
      "Finished running remove_string_values.\n",
      "Running binarize_nan...\n"
     ]
    }
   ],
   "source": [
    "customers_clean = clean_df.etl_pipeline(customers,verbosity=v.MED)"
   ]
  },
  {
   "cell_type": "code",
   "execution_count": null,
   "metadata": {},
   "outputs": [],
   "source": []
  }
 ],
 "metadata": {
  "kernelspec": {
   "display_name": "Python 3",
   "language": "python",
   "name": "python3"
  },
  "language_info": {
   "codemirror_mode": {
    "name": "ipython",
    "version": 3
   },
   "file_extension": ".py",
   "mimetype": "text/x-python",
   "name": "python",
   "nbconvert_exporter": "python",
   "pygments_lexer": "ipython3",
   "version": "3.6.10"
  }
 },
 "nbformat": 4,
 "nbformat_minor": 4
}
